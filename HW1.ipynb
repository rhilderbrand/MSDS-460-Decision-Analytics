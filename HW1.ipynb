{
  "nbformat": 4,
  "nbformat_minor": 0,
  "metadata": {
    "colab": {
      "name": "HW1.ipynb",
      "provenance": [],
      "authorship_tag": "ABX9TyMC0KFqQ6ADfFagI9Oiymqk",
      "include_colab_link": true
    },
    "kernelspec": {
      "name": "python3",
      "display_name": "Python 3"
    },
    "language_info": {
      "name": "python"
    }
  },
  "cells": [
    {
      "cell_type": "markdown",
      "metadata": {
        "id": "view-in-github",
        "colab_type": "text"
      },
      "source": [
        "<a href=\"https://colab.research.google.com/github/rhilderbrand/MSDS-460-Decision-Analytics/blob/main/HW1.ipynb\" target=\"_parent\"><img src=\"https://colab.research.google.com/assets/colab-badge.svg\" alt=\"Open In Colab\"/></a>"
      ]
    },
    {
      "cell_type": "code",
      "metadata": {
        "id": "3E3RCHyQ7_L5"
      },
      "source": [
        "import numpy as np\n",
        "import matplotlib.pyplot as plt"
      ],
      "execution_count": 4,
      "outputs": []
    },
    {
      "cell_type": "code",
      "metadata": {
        "colab": {
          "base_uri": "https://localhost:8080/",
          "height": 296
        },
        "id": "sShLJb-O79VO",
        "outputId": "89b8c35b-a213-4479-da0f-cbf150c77629"
      },
      "source": [
        "# plot the feasible region\n",
        "d = np.linspace(-2,16,300)\n",
        "x,y = np.meshgrid(d,d)\n",
        "plt.imshow( ((y>=0) & (x>=0) & (x+2*y<=6) & (-2*x+y<=4) & (5*x+3*y<=15)).astype(int) , \n",
        "                extent=(x.min(),x.max(),y.min(),y.max()),origin=\"lower\", cmap=\"Greys\", alpha = 0.3);\n",
        "\n",
        "\n",
        "# plot the lines defining the constraints\n",
        "x = np.linspace(0, 16, 2000)\n",
        "# y >= 0\n",
        "y1 = (x*0) + 0\n",
        "# x >= 0\n",
        "y2 = (x*0) + 0\n",
        "# x + 2y <=6\n",
        "y3 = (6-x)/2.0\n",
        "# -2x1 + x2 <= 4\n",
        "y4 = 4 + (-2*x)\n",
        "# 5x1 + 3x2 <=15\n",
        "y5 = (15 - 5*x)/3.0\n",
        "\n",
        "# 2y <= 25 - x\n",
        "#y2 = (25-x)/2.0\n",
        "# 4y >= 2x - 8 \n",
        "#y3 = (2*x-8)/4.0\n",
        "# y <= 2x - 5 \n",
        "#y4 = 2 * x -5\n",
        "\n",
        "# Make plot\n",
        "#plt.plot(x, 2*np.ones_like(y1))\n",
        "plt.plot(x, y1, label=r'$x2\\geq 0$')\n",
        "plt.plot(x, y2, label=r'$x1\\geq 0$')\n",
        "plt.plot(x, y3, label=r'$x1 + 2x2\\leq 6$')\n",
        "plt.plot(x, y4, label=r'$-2x1 + x2\\leq 4$')\n",
        "plt.plot(x, y5, label=r'$5x1 + 3x2\\leq 15$')\n",
        "plt.xlim(0,16)\n",
        "plt.ylim(0,11)\n",
        "plt.legend(bbox_to_anchor=(1.05, 1), loc=2, borderaxespad=0.)\n",
        "plt.xlabel(r'$x$')\n",
        "plt.ylabel(r'$y$')"
      ],
      "execution_count": 13,
      "outputs": [
        {
          "output_type": "execute_result",
          "data": {
            "text/plain": [
              "Text(0, 0.5, '$y$')"
            ]
          },
          "metadata": {
            "tags": []
          },
          "execution_count": 13
        },
        {
          "output_type": "display_data",
          "data": {
            "image/png": "[encoded data removed]",
            "text/plain": [
              "<Figure size 432x288 with 1 Axes>"
            ]
          },
          "metadata": {
            "tags": [],
            "needs_background": "light"
          }
        }
      ]
    },
    {
      "cell_type": "code",
      "metadata": {
        "id": "qB4JfS1CMHth"
      },
      "source": [
        "import numpy as np\n",
        "import matplotlib.pyplot as plt\n",
        "from sympy.solvers import solve\n",
        "from sympy import Symbol\n",
        "\n",
        "def f1(x):\n",
        "    return 4.0*x-2.0\n",
        "def f2(x):\n",
        "    return 0.5*x+2.0\n",
        "def f3(x):\n",
        "    return -0.3*x+7.0\n",
        "\n",
        "x = Symbol('x')\n",
        "x1, =  solve(f1(x)-f2(x))\n",
        "x2, =  solve(f1(x)-f3(x))\n",
        "x3, =  solve(f2(x)-f3(x))\n",
        "\n",
        "y1 = f1(x1)\n",
        "y2 = f1(x2)\n",
        "y3 = f2(x3)\n",
        "\n",
        "plt.plot(x1,f1(x1),'go',markersize=10)\n",
        "plt.plot(x2,f1(x2),'go',markersize=10)\n",
        "plt.plot(x3,f2(x3),'go',markersize=10)\n",
        "\n",
        "plt.fill([x1,x2,x3,x1],[y1,y2,y3,y1],'red',alpha=0.5)\n",
        "\n",
        "xr = np.linspace(0.5,7.5,100)\n",
        "y1r = f1(xr)\n",
        "y2r = f2(xr)\n",
        "y3r = f3(xr)\n",
        "\n",
        "plt.plot(xr,y1r,'k--')\n",
        "plt.plot(xr,y2r,'k--')\n",
        "plt.plot(xr,y3r,'k--')\n",
        "\n",
        "plt.xlim(0.5,7)\n",
        "plt.ylim(2,8)\n",
        "\n",
        "plt.show()\n"
      ],
      "execution_count": null,
      "outputs": []
    }
  ]
}